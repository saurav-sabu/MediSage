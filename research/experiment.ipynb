{
 "cells": [
  {
   "cell_type": "code",
   "execution_count": 19,
   "metadata": {},
   "outputs": [],
   "source": [
    "from langchain_text_splitters import RecursiveCharacterTextSplitter\n",
    "from langchain_google_genai import ChatGoogleGenerativeAI, GoogleGenerativeAIEmbeddings\n",
    "from langchain_community.document_loaders import PyPDFLoader\n",
    "from dotenv import load_dotenv\n",
    "from pinecone.grpc import PineconeGRPC as Pinecone\n",
    "from pinecone import ServerlessSpec\n",
    "from langchain_pinecone import PineconeVectorStore\n",
    "from langchain.chains import create_retrieval_chain\n",
    "from langchain.chains.combine_documents import create_stuff_documents_chain\n",
    "from langchain_core.prompts import ChatPromptTemplate"
   ]
  },
  {
   "cell_type": "code",
   "execution_count": 2,
   "metadata": {},
   "outputs": [
    {
     "data": {
      "text/plain": [
       "True"
      ]
     },
     "execution_count": 2,
     "metadata": {},
     "output_type": "execute_result"
    }
   ],
   "source": [
    "load_dotenv()"
   ]
  },
  {
   "cell_type": "code",
   "execution_count": 3,
   "metadata": {},
   "outputs": [],
   "source": [
    "def load_pdf_file(file_path):\n",
    "    documents = PyPDFLoader(file_path).load()\n",
    "    return documents"
   ]
  },
  {
   "cell_type": "code",
   "execution_count": 4,
   "metadata": {},
   "outputs": [],
   "source": [
    "medical_document = load_pdf_file(\"medical_data.pdf\")"
   ]
  },
  {
   "cell_type": "code",
   "execution_count": 5,
   "metadata": {},
   "outputs": [],
   "source": [
    "def text_splitting(extracted_data):\n",
    "    splitter = RecursiveCharacterTextSplitter(chunk_size=1000,chunk_overlap=200)\n",
    "    chunks = splitter.split_documents(extracted_data)\n",
    "    return chunks"
   ]
  },
  {
   "cell_type": "code",
   "execution_count": 6,
   "metadata": {},
   "outputs": [],
   "source": [
    "chunks = text_splitting(medical_document)"
   ]
  },
  {
   "cell_type": "code",
   "execution_count": 7,
   "metadata": {},
   "outputs": [],
   "source": [
    "def initialize_embedding():\n",
    "    embedding = GoogleGenerativeAIEmbeddings(model=\"models/text-embedding-004\")\n",
    "    return embedding"
   ]
  },
  {
   "cell_type": "code",
   "execution_count": 8,
   "metadata": {},
   "outputs": [],
   "source": [
    "embedding = initialize_embedding()"
   ]
  },
  {
   "cell_type": "code",
   "execution_count": 9,
   "metadata": {},
   "outputs": [
    {
     "data": {
      "text/plain": [
       "768"
      ]
     },
     "execution_count": 9,
     "metadata": {},
     "output_type": "execute_result"
    }
   ],
   "source": [
    "len(embedding.embed_query(\"Hi\"))"
   ]
  },
  {
   "cell_type": "code",
   "execution_count": 10,
   "metadata": {},
   "outputs": [],
   "source": [
    "pc = Pinecone()"
   ]
  },
  {
   "cell_type": "code",
   "execution_count": 11,
   "metadata": {},
   "outputs": [],
   "source": [
    "index_name = \"medisage\"\n",
    "\n",
    "pc.create_index(\n",
    "    name=index_name,\n",
    "    dimension=768, # Replace with your model dimensions\n",
    "    metric=\"cosine\", # Replace with your model metric\n",
    "    spec=ServerlessSpec(\n",
    "        cloud=\"aws\",\n",
    "        region=\"us-east-1\"\n",
    "    ) \n",
    ")"
   ]
  },
  {
   "cell_type": "code",
   "execution_count": null,
   "metadata": {},
   "outputs": [],
   "source": [
    "docsearch = PineconeVectorStore.from_documents(\n",
    "    documents=chunks,\n",
    "    embedding=embedding,\n",
    "    index_name=index_name,\n",
    ")"
   ]
  },
  {
   "cell_type": "code",
   "execution_count": 23,
   "metadata": {},
   "outputs": [],
   "source": [
    "retriever = docsearch.as_retriever(search_type=\"similarity\",search_kwargs={\"k\":3})"
   ]
  },
  {
   "cell_type": "code",
   "execution_count": 13,
   "metadata": {},
   "outputs": [],
   "source": [
    "model = ChatGoogleGenerativeAI(model=\"gemini-2.0-flash\")"
   ]
  },
  {
   "cell_type": "code",
   "execution_count": 20,
   "metadata": {},
   "outputs": [],
   "source": [
    "system_prompt = \"\"\"\n",
    "You are MedBot, an AI-powered virtual medical assistant trained to provide general healthcare information, symptom explanations, and wellness guidance. You do not provide medical diagnoses or prescribe medications. Your primary role is to assist users with evidence-based health information while encouraging them to seek professional medical attention when necessary.\n",
    "\n",
    "###**Context:**\n",
    "'{context}'\n",
    "\n",
    "### **Guidelines:**\n",
    "1. **Professional & Empathetic** – Respond with medical accuracy while maintaining a compassionate tone.\n",
    "2. **User-Friendly Language** – Explain medical terms in simple, easy-to-understand language.\n",
    "3. **Advisory Role** – Provide general health insights, but never diagnose or prescribe treatment.\n",
    "4. **Encourage Professional Consultation** – If a query requires a diagnosis, recommend consulting a healthcare professional.\n",
    "5. **Ethical & Safe** – Avoid misinformation, medical treatments, or personal health predictions.\n",
    "\n",
    "### **Capabilities:**\n",
    "✔ Explain symptoms and common conditions  \n",
    "✔ Provide first-aid and general wellness advice  \n",
    "✔ Suggest preventive healthcare measures  \n",
    "✔ Explain medical terms, tests, and procedures  \n",
    "✔ Offer insights on diet, fitness, and mental well-being  \n",
    "\n",
    "### **Limitations:**\n",
    "✖ Cannot provide personalized diagnoses or treatments  \n",
    "✖ Cannot prescribe medications or recommend dosages  \n",
    "✖ Cannot replace professional medical advice  \n",
    "\n",
    "### **Example Interactions:**\n",
    "\n",
    "**User:** \"I have a sore throat and mild fever. What should I do?\"  \n",
    "**MedBot:** \"A sore throat and mild fever can be caused by viral infections like the common cold. Stay hydrated, rest well, and consider warm fluids like herbal tea. If symptoms persist for more than 3 days or worsen, consult a doctor.\"\n",
    "\n",
    "**User:** \"Can I take aspirin for my headache?\"  \n",
    "**MedBot:** \"I cannot recommend specific medications, but you may try resting in a quiet room, staying hydrated, or using a cold compress. If the headache is severe or persistent, consult a healthcare professional.\"\n",
    "\n",
    "**User:** \"What are the symptoms of diabetes?\"  \n",
    "**MedBot:** \"Common symptoms of diabetes include increased thirst, frequent urination, fatigue, and blurred vision. If you experience these symptoms, it is advisable to consult a doctor for proper evaluation.\"\n",
    "\n",
    "Always provide clear, safe, and non-diagnostic responses, prioritizing user well-being.\n",
    "\"\"\"\n"
   ]
  },
  {
   "cell_type": "code",
   "execution_count": 21,
   "metadata": {},
   "outputs": [],
   "source": [
    "prompt = ChatPromptTemplate.from_messages(\n",
    "    [\n",
    "        (\"system\",system_prompt),\n",
    "        (\"human\",\"{input}\")\n",
    "    ]\n",
    ")"
   ]
  },
  {
   "cell_type": "code",
   "execution_count": 24,
   "metadata": {},
   "outputs": [],
   "source": [
    "question_answer_chain = create_stuff_documents_chain(model,prompt)\n",
    "rag_chain = create_retrieval_chain(retriever,question_answer_chain)"
   ]
  },
  {
   "cell_type": "code",
   "execution_count": 27,
   "metadata": {},
   "outputs": [
    {
     "data": {
      "text/plain": [
       "'Acne is a common skin disease characterized by pimples on the face, chest, and back. It occurs when the pores of the skin become clogged with oil, dead skin cells, and bacteria.\\nAcne vulgaris, the medical term for common acne, is the most common skin disease. It affects nearly 17 million people in the United States. While acne can arise at any age, it usually begins at puberty and worsens during adolescence. Nearly 85% of people develop acne at some time between the ages of 12-25 years. Up to 20% of women develop mild acne. It is also found in some newborns.\\n\\nThe sebaceous glands lie just beneath the skin’s surface. They produce an oil called sebum, the skin’s natural moisturizer. These glands and the hair follicles within which they are found are called sebaceous follicles. These follicles open onto the skin through pores. At puberty, increased levels of androgens (male hormones) cause the glands to produce too much sebum. When excess sebum combines with dead, sticky skin cells, a hard plug, or comedo, forms that blocks the pore. Mild noninflammatory acne consists of the two types of comedones, whiteheads and blackheads.\\n\\nModerate and severe inflammatory types of acne result after the plugged follicle is invaded by Propionibacterium acnes, a bacteria that normally lives on the skin. A pimple forms when the damaged follicle weakens and bursts open, releasing sebum, bacteria, and skin and white blood cells into the surrounding tissues. Inflamed pimples near the skin’s surface are called papules; when deeper, they are called pustules. The most severe type of acne consists of cysts (closed sacs) and nodules (hard swellings). Scarring occurs when new skin cells are laid down to replace damaged cells.\\n\\nThe most common sites of acne are the face, chest, shoulders, and back since these are the parts of the body where the most sebaceous follicles are found.'"
      ]
     },
     "execution_count": 27,
     "metadata": {},
     "output_type": "execute_result"
    }
   ],
   "source": [
    "rag_chain.invoke({\"input\":\"What is acne\"})[\"answer\"]"
   ]
  },
  {
   "cell_type": "code",
   "execution_count": 28,
   "metadata": {},
   "outputs": [
    {
     "data": {
      "text/plain": [
       "'Based on the context provided:\\n\\nSports injuries result from acute trauma or repetitive stress associated with athletic activities. Sports injuries can affect bones or soft tissue (ligaments, muscles, tendons).\\n\\nIn 2002, about 20.3 million Americans suffered a sports injury. Of those, 53% were minor enough to be self-treated or left untreated. However, about 10 million Americans annually receive medical attention for their sports-related injuries. That equates to almost 26 per 1,000 people. The highest rate is among children age five to 14 years old (59.3 per 1,000 people). As many as 20% of children who play sports get hurt, and about 25% of their injuries are classified as serious.\\n\\nAbout 95% of sports injuries are minor soft tissue traumas.\\n\\nFractures account for 5–6% of all sports injuries.\\n\\nBrain injury is the primary cause of fatal sports-related injuries. Concussion, which is also called mild traumatic brain injury or MTBI, can result from even minor blows to the head.\\n\\n**MedBot:** In the context of sports injuries, \"stats\" refers to numerical data or statistics related to these injuries. This can include information like the number of people affected, the types of injuries that are most common, and the rates of injury in different age groups.'"
      ]
     },
     "execution_count": 28,
     "metadata": {},
     "output_type": "execute_result"
    }
   ],
   "source": [
    "rag_chain.invoke({\"input\":\"What is stats\"})[\"answer\"]"
   ]
  },
  {
   "cell_type": "code",
   "execution_count": null,
   "metadata": {},
   "outputs": [],
   "source": []
  }
 ],
 "metadata": {
  "kernelspec": {
   "display_name": "Python 3",
   "language": "python",
   "name": "python3"
  },
  "language_info": {
   "codemirror_mode": {
    "name": "ipython",
    "version": 3
   },
   "file_extension": ".py",
   "mimetype": "text/x-python",
   "name": "python",
   "nbconvert_exporter": "python",
   "pygments_lexer": "ipython3",
   "version": "3.12.9"
  }
 },
 "nbformat": 4,
 "nbformat_minor": 2
}
